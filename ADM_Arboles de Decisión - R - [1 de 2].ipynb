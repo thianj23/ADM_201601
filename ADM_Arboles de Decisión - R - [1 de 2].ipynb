{
 "cells": [
  {
   "cell_type": "markdown",
   "metadata": {},
   "source": [
    "# <center>**Aprendizaje de Máquinas para Datos Masivos**</center>  \n",
    "<center>**Docente Juan David Velásquez, PhD**</center>\n",
    "<center>**Universidad Nacional de Colombia - Sede Medellín**</center>\n",
    "<center>**Semestre 2016-01**</center>"
   ]
  },
  {
   "cell_type": "markdown",
   "metadata": {},
   "source": [
    "## <center>**Identificación de préstamos riesgosos a partir de Arboles de Decisión**</center>\n",
    "<center>**Parte 1 -R-**</center>"
   ]
  },
  {
   "cell_type": "markdown",
   "metadata": {},
   "source": [
    "\n",
    "### <div align=\"right\">_**Presentado Por:**_</div>\n",
    "<div align=\"right\">Ibeth Karina Vergara Baquero</div>\n",
    "<div align=\"right\">José Manuel Osorio Restrepo</div>\n",
    "<div align=\"right\">Christian R. Ortiz Jiménez</div>\n",
    "\n",
    "<hr style=\"height:1px\">"
   ]
  },
  {
   "cell_type": "markdown",
   "metadata": {},
   "source": [
    "## Contenido\n",
    "* [1. Introducción a Arboles de Decisión](#1.-Introducción-a-Arboles-de-Decisión)\n",
    "    * [1.1. Conceptos claves](#1.1.-Conceptos-claves)\n",
    "        * [a. Entropía](#a.-Entropía)\n",
    "        * [b. Ganancia de Información](#b.-Ganancia-de-Información)\n",
    "        * [c. Poda del árbol de decisión](#c.-Poda-del-árbol-de-desición)\n",
    "* [2. Aplicaciones destacadas](#2.-Aplicaciones-destacadas)\n",
    "* [3. Algoritmo C5.0](#3.-Algoritmo-C5.0)\n",
    "    * [3.1. Construcción de un Árbol de Decisión](#3.1.-Construcción-de-un-Árbol-de-Decisión)\n",
    "    * [3.2. Ejemplo del cálculo de Entropía y Ganancia de Información](#3.2.-Ejemplo-del-cálculo-de-Entropía-y-Ganancia-de-Información)\n",
    "    * [3.3. Ventajas y Desventajas](#3.3.-Ventajas-y-Desventajas)\n",
    "* [4. Caso: Identificación de préstamos con riesgo de no pago](#4.-Caso:-Identificación-de-préstamos-con-riesgo-de-no-pago)\n",
    "* [5. Desarrollo empleando R](#5.-Desarrollo-empleando-R)\n",
    "    * [5.1. Paso 1: Recolección de datos](#5.1.-Paso-1:-Recolección-de-datos)\n",
    "    * [5.2. Paso 2: Exploración y Preparación de datos](#5.2.-Paso-2:-Exploración-y-Preparación-de-datos)\n",
    "    * [5.3. Paso 3: Entrenamiento del modelo](#5.3.-Paso-3:-Entrenamiento-del-modelo)\n",
    "    * [5.4. Paso 4: Evaluación del desempeño del modelo](#5.4.-Paso-4:-Evaluación-del-desempeño-del-modelo)\n",
    "    * [5.5. Paso 5: Mejorar el desempeño del modelo](#5.5.-Paso-5:-Mejorar-el-desempeño-del-modelo)\n",
    "        * [a. A partir de estimulación](#a.-A-partir-de-estimulación)\n",
    "        * [b. A partir de penalización](#b.-A-partir-de-penalización)\n",
    "* [6. Desarrollo empleando Python](#6.-Desarrollo-empleando-Python)\n",
    "* [7. Conclusiones](#7.-Conclusiones)\n",
    "* [8. Bibliografía](#8.-Bibliografía)\n",
    "\n"
   ]
  },
  {
   "cell_type": "markdown",
   "metadata": {},
   "source": [
    "## 1. Introducción a Arboles de Decisión\n",
    "\n",
    "Los arboles de desición son potentes herramientas de predicción que emplean una estructura de jerarquica para modelar las relaciones entre los atributos y los posibles resultados de un conjunto de datos.\n",
    "\n",
    "La estructura básica de un árbol inicia con un **nodo raíz** (nivel 0), de éste se desprenden ramificaciones según alguna regla o condición que debe cumplir un atributo. Las ramas conducen a **nodos de decisión**, de los que se desprenden nuevas ramas.\n",
    "\n",
    "El árbol finaliza en un **nodo terminal** (hojas) que denota la acción a seguir o la clasificación final, resultado del cumplimiento de las condiciones superiores del árbol. \n",
    "![alt text](Arboles de Decisión.png \"Arboles de Decisión\") \n",
    "\n",
    "<center>Figura 1. Esquema general de un Árbol de Decisión</center>"
   ]
  },
  {
   "cell_type": "markdown",
   "metadata": {},
   "source": [
    "Los arboles de decisión pueden trabajar con datos **numéricos** (altura < 1.78m; Ingresos >$ 10.000.000, etc.) o **categóricos** (Estado: [Soltero, Casado, Divorciado])."
   ]
  },
  {
   "cell_type": "markdown",
   "metadata": {},
   "source": [
    "## 1.1. Conceptos claves\n",
    "\n",
    "Los arboles de desición se construyen a partir de particionamiento recursivo, el cual toma como inspiración el principio heurístico *\"divide y vencerás\"*. En general, se divide el espacio predictor según valores posibles de los atributos o según el cumplimiento de alguna condición. \n",
    "\n",
    "A continuación se presentan algunos conceptos fundamentales en la teoría de arboles de decisión:"
   ]
  },
  {
   "cell_type": "markdown",
   "metadata": {},
   "source": [
    "### a. Entropía\n",
    "\n",
    "El primer desafío al que se debe enfrentar un árbol de desición es identificar cuáles serán los atributos para la división. Para esto se hace uso del concepto de Entropía, el cual proviene de la teoría de información.\n",
    "\n",
    "La Entropía permite identificar la aleatoriedad o desorden dentro de una clase. Una clasificación con alta entropía tiene mucha diversidad mientras una con entropia pequeña (lo ideal es 0) es más homogénea; la clasificación tenderá a ser de un solo criterio. Para su cálculo se emplea la ecuación: \n",
    "\n",
    "$$Entropía (S)=\\sum_{i=1}^{c}-p_{i}log_{2}(p_{i})$$\n",
    "\n",
    "Donde c el numero de clases y Pi es la proporción de i respecto a toda la clase ( o probabilidad de que un valor esté presente en una clase).\n",
    "\n",
    "Si hay solo dos posibles clases el valor de la entropia esta en un rango entre 0 y 1, para n clases el valor de la entropia esta en un rango entre 0 y Log2(n). En cada caso el mínimo valor indica que la muestra es completamente homogénea, mientras que el valor máximo indica que los datos son tan diversos como es posible.\n"
   ]
  },
  {
   "cell_type": "markdown",
   "metadata": {},
   "source": [
    "### b. Ganancia de Información\n",
    "\n",
    "Para usar la entropia como determinador de la caracteristica optima a clasificar, el algoritmo calcula el cambio en homogeneidad que resultaría de la clasificación con otro posible atributo frente al atributo inicial.\n",
    "\n",
    "$$GI(F)=Entropía (S_{1})-Entropía (S_{2})$$\n",
    "\n",
    "La ganancia de información para un atributo es calculada como la diferencia entre la entropia antes (S1) y después (S2) de realizar la división con un atrbuto F.\n"
   ]
  },
  {
   "cell_type": "markdown",
   "metadata": {},
   "source": [
    "### c. Poda del árbol de desición\n",
    "\n",
    "Un arbol de desición puede continuar creciendo indefinidamente, si el árbol crece demasiado muchas de la desiciones pueden ser demasiado especificas y el modelo puede incurrir en sobre-estimaciones. \n",
    "\n",
    "La poda dde un árbol de desición reduce el tamaño de éste, con la intención de mejorar la presición o evitar sobre-ajustes."
   ]
  },
  {
   "cell_type": "markdown",
   "metadata": {},
   "source": [
    "## 2. Aplicaciones destacadas\n",
    "\n",
    "* Clasificaciones de pacientes en la zona de triaje\n",
    "* Desarrollo de juegos\n",
    "* Predicciones meteorológicas\n",
    "* Control de calidad\n",
    "* Evaluación de material quimico para manofactura de producción\n",
    "* Identificación de rasgos para ser usados en dispositivos de trasplante\n",
    "* Filtro de ruido de las imagenes del telescopio Hubble\n",
    "* Análisis de secuencia de aminoacidos en el genoma humano\n",
    "* Análisis del cindrome de muerte suvita del lactante\n",
    "* Programación del ensamblaje de tarjetas board\n",
    "* **Clasificación de creditos con riesgo de no pago**\n",
    "* Entre muchos otros"
   ]
  },
  {
   "cell_type": "markdown",
   "metadata": {},
   "source": [
    "## 3. Algoritmo C5.0\n",
    "\n",
    "Hay varios algoritmos para desarrollar un arboles de desición, entre estos el ID3, C4.5, C5.0 y el CART (Classification and Regression Trees). Sin embargo, uno de los más implementados es el algoritmo C5.0, desarrollado por Quinlan. Este algoritmo es una versión mejorada de su predecesor, el algorintmo C4.5; que a su vez es una actualización del ID3.\n",
    "\n",
    "En R, el algoritmo C5.0 está disponible mediante el paquete \"C50\". Éste, se puede instalar con el comando *install.packages(\"C50\")*. Ubna vez instalado, se puede llamar con *library(C50)*. "
   ]
  },
  {
   "cell_type": "markdown",
   "metadata": {},
   "source": [
    "### 3.1. **Construcción de un Árbol de Decisión**\n",
    "\n",
    "* 1.Preparación del modelo;\n",
    "* 2.Iterar sobre todos los atributos i (posibles clasificadores);\n",
    "* 3.Calcular la Ganancia de Información que brinda la división según cada atributo i.;\n",
    "* 4.Seleccionar el atributo i que proporcione la mayor Ganancia de Información y emplearlo como clasificador;\n",
    "* 5.Crear un nodo de decisión con el atributo i del paso 4;\n",
    "* 6.Repetir 4 a 6 para continuar la construcción del árbol\n",
    "* 7.Detenerse cuando se haya clasificado todo el espacio o se cumpla una tolerancia.\n",
    "\n",
    "Este algoritmo se desarrolla a partir de dos conceptos la Entropia y la ganancia de información."
   ]
  },
  {
   "cell_type": "markdown",
   "metadata": {},
   "source": [
    "### 3.2. **Ejemplo del cálculo de Entropía y Ganancia de Información**\n",
    "\n",
    "<center>**Estatura**</center>|<center>**Color de cabello**</center>|<center>**Clase**</center>\n",
    "-|-|-\n",
    "<center>Alto</center>|<center>Negro</center>|<center>A</center>\n",
    "<center>Bajo</center>|<center>Negro</center>|<center>A</center>\n",
    "<center>Alto</center>|<center>Rubio</center>|<center>O</center>\n",
    "<center>Alto</center>|<center>Rojo</center>|<center>O</center>\n",
    "<center>Alto</center>|<center>Rubio</center>|<center>A</center>\n",
    "<center>Bajo</center>|<center>Rubio</center>|<center>O</center>\n",
    "<center>Bajo</center>|<center>Rubio</center>|<center>A</center>\n",
    "<center>Alto</center>|<center>Negro</center>|<center>A</center>\n",
    "<center>Tabla 1. Ejemplo Sencillo de Clasificación</center>\n",
    "\n",
    "La entropía del sistema sería: \n",
    "\n",
    "\n",
    "\n",
    "$$\\dfrac{-5}{8}log_{2}(\\dfrac{5}{8})-\\dfrac{3}{8}log_{2}(\\dfrac{3}{8})=0.954 bits$$\n"
   ]
  },
  {
   "cell_type": "markdown",
   "metadata": {},
   "source": [
    "La Entropía que se obtiene si se clasifica según el atributo *\"Color de Cabello\"*:\n",
    "\n",
    "<center>**Color de Cabello**</center>|<center>**Clase**</center>\n",
    "-|-\n",
    "<center>Negro</center>|<center>A</center>\n",
    "<center>Negro</center>|<center>A</center>\n",
    "<center>Negro</center>|<center>A</center>\n",
    "<center>Rojo</center>|<center>O</center>\n",
    "<center>Rubio</center>|<center>A</center>\n",
    "<center>Rubio</center>|<center>A</center>\n",
    "<center>Rubio</center>|<center>O</center>\n",
    "<center>Rubio</center>|<center>O</center>\n",
    "<center>Tabla 2. Clasificación según Color de Cabello</center>\n",
    "\n",
    "\n",
    "1. Se calcula la entropía de cada sub-clase:\n",
    "\n",
    "\n",
    "* E(C/Negro)= 0 (todos son clase A)\n",
    "\n",
    "\n",
    "* E(C/Rojo)=0 (todos son clase O)\n",
    "\n",
    "\n",
    "* $E(C/Rubio)=\\dfrac{-2}{4}log_{2}(\\dfrac{2}{4})-\\dfrac{2}{4}log_{2}(\\dfrac{2}{4})=1 bits$\n",
    "\n",
    "2. Entonces, la Entropía de asociada a la clasificación según este atributo es:\n",
    "\n",
    "$$\\dfrac{3}{8}(0)+\\dfrac{1}{8}(0)+\\dfrac{4}{8}(1)=0.5 bits$$\n"
   ]
  },
  {
   "cell_type": "markdown",
   "metadata": {},
   "source": [
    "Y la Ganancia de Información que genera esta clasificación es: \n",
    "\n",
    "$$0.954 bits-0.5 bits = 0.454 bits$$\n",
    "\n",
    "*La Ganancia de Información se calcula para todos los atributos, y se selecciona aquel que proporcione el mayor valor de ésta*\n"
   ]
  },
  {
   "cell_type": "markdown",
   "metadata": {},
   "source": [
    "### 3.3. **Ventajas y Desventajas**\n",
    "\n",
    "Al comparar este algoritmo con otros modelos de aprendizaje de maquinas podemos encontrar que tiene las siguientes ventajas y desventajas:\n",
    "\n",
    "<center>**Ventajas**</center>|<center>**Desventajas**</center>\n",
    "-|-\n",
    "<center>Es un clasificador multipropósito que se desempeña bien en muchos problemas</center>|<center>Puede generar un número de niveles demasiado grande debido a sesgos durante la división.</center>\n",
    "<center>Puede manejar atributos nominales, numéricos, o faltantes.</center>|<center> Puede sobre-estimar o sub-estimar el modelo facilmente.</center>\n",
    "<center>Excluye atributos irrelevantes.</center>|<center> Puede presentar problemas para modelar relaciones entre las observaciones debido a las divisiones paralelas a los ejes.</center>\n",
    "<center>Los resultados se pueden interpretar sin necesidad de antecedentes matemáticos complejos (arboles pequeños)</center>|<center> La decisión es sensible a pequeños cambios en los datos de entrenamiento.</center>\n",
    "<center>Puede resultar más eficiente que otros modelos complejos.</center>|<center> Los arboles grandes pueden ser difíciles de comprender e incluso contraintuitivos.</center>\n",
    "<center>Tabla 3. Ventajas y Desventajas de un Árbol de Decisión desarrollado con el algoritmo C5.0 (Lantz, 2015)<center>\n",
    "\n",
    "\n"
   ]
  },
  {
   "cell_type": "markdown",
   "metadata": {},
   "source": [
    "## 4. Caso: Identificación de préstamos con riesgo de no pago\n",
    "\n",
    "A partir de la crisis financiera global del 2007 y 2008, aumento la importancia de aumentar el rigor en los procesos de las entidades bancarias y la transparencia de los mismos. Por esta razón muchos bancos tuvieron que verificar de manera mas estructura la viabilidad de dar un credito a personas naturales, esto debido al riesgo crediticio o de no pago que se podia correr.\n",
    "\n",
    "Los arboles de desición son ampliamente usados en la industria bancaria debido a su alta precisión en la predicción de creditos con riesgo de no pago y la habilidad para formular modelos estadisticos en un lenguaje cotidiano. Estos modelos permiten predicir si a un aplicante a credito se le debe dar o no este y asi tener una herramienta para demostrar a los entes gubernamentales la transparencia del proceso.\n",
    "\n",
    "Se hara uso del algoritmo C5.0 para presentar un arbol que permita identificar el riesgo de no pago en prestamos bancarios."
   ]
  },
  {
   "cell_type": "markdown",
   "metadata": {},
   "source": [
    "## 5. Desarrollo empleando R\n"
   ]
  },
  {
   "cell_type": "markdown",
   "metadata": {},
   "source": [
    "## 5.1. Paso 1: Recolección de datos\n"
   ]
  },
  {
   "cell_type": "code",
   "execution_count": 128,
   "metadata": {
    "collapsed": false
   },
   "outputs": [],
   "source": [
    "#Se lee el archivo\n",
    "credit <- read.csv(\"credit.csv\")"
   ]
  },
  {
   "cell_type": "code",
   "execution_count": 129,
   "metadata": {
    "collapsed": false
   },
   "outputs": [
    {
     "data": {
      "text/html": [
       "<table>\n",
       "<thead><tr><th></th><th scope=col>checking_balance</th><th scope=col>months_loan_duration</th><th scope=col>credit_history</th><th scope=col>purpose</th><th scope=col>amount</th><th scope=col>savings_balance</th><th scope=col>employment_duration</th><th scope=col>percent_of_income</th><th scope=col>years_at_residence</th><th scope=col>age</th><th scope=col>other_credit</th><th scope=col>housing</th><th scope=col>existing_loans_count</th><th scope=col>job</th><th scope=col>dependents</th><th scope=col>phone</th><th scope=col>default</th></tr></thead>\n",
       "<tbody>\n",
       "\t<tr><th scope=row>1</th><td>< 0 DM</td><td>6</td><td>critical</td><td>furniture/appliances</td><td>1169</td><td>unknown</td><td>> 7 years</td><td>4</td><td>4</td><td>67</td><td>none</td><td>own</td><td>2</td><td>skilled</td><td>1</td><td>yes</td><td>no</td></tr>\n",
       "\t<tr><th scope=row>2</th><td>1 - 200 DM</td><td>48</td><td>good</td><td>furniture/appliances</td><td>5951</td><td>< 100 DM</td><td>1 - 4 years</td><td>2</td><td>2</td><td>22</td><td>none</td><td>own</td><td>1</td><td>skilled</td><td>1</td><td>no</td><td>yes</td></tr>\n",
       "\t<tr><th scope=row>3</th><td>unknown</td><td>12</td><td>critical</td><td>education</td><td>2096</td><td>< 100 DM</td><td>4 - 7 years</td><td>2</td><td>3</td><td>49</td><td>none</td><td>own</td><td>1</td><td>unskilled</td><td>2</td><td>no</td><td>no</td></tr>\n",
       "\t<tr><th scope=row>4</th><td>< 0 DM</td><td>42</td><td>good</td><td>furniture/appliances</td><td>7882</td><td>< 100 DM</td><td>4 - 7 years</td><td>2</td><td>4</td><td>45</td><td>none</td><td>other</td><td>1</td><td>skilled</td><td>2</td><td>no</td><td>no</td></tr>\n",
       "\t<tr><th scope=row>5</th><td>< 0 DM</td><td>24</td><td>poor</td><td>car</td><td>4870</td><td>< 100 DM</td><td>1 - 4 years</td><td>3</td><td>4</td><td>53</td><td>none</td><td>other</td><td>2</td><td>skilled</td><td>2</td><td>no</td><td>yes</td></tr>\n",
       "\t<tr><th scope=row>6</th><td>unknown</td><td>36</td><td>good</td><td>education</td><td>9055</td><td>unknown</td><td>1 - 4 years</td><td>2</td><td>4</td><td>35</td><td>none</td><td>other</td><td>1</td><td>unskilled</td><td>2</td><td>yes</td><td>no</td></tr>\n",
       "</tbody>\n",
       "</table>\n"
      ],
      "text/latex": [
       "\\begin{tabular}{r|lllllllllllllllll}\n",
       "  & checking_balance & months_loan_duration & credit_history & purpose & amount & savings_balance & employment_duration & percent_of_income & years_at_residence & age & other_credit & housing & existing_loans_count & job & dependents & phone & default\\\\\n",
       "\\hline\n",
       "\t1 & < 0 DM & 6 & critical & furniture/appliances & 1169 & unknown & > 7 years & 4 & 4 & 67 & none & own & 2 & skilled & 1 & yes & no\\\\\n",
       "\t2 & 1 - 200 DM & 48 & good & furniture/appliances & 5951 & < 100 DM & 1 - 4 years & 2 & 2 & 22 & none & own & 1 & skilled & 1 & no & yes\\\\\n",
       "\t3 & unknown & 12 & critical & education & 2096 & < 100 DM & 4 - 7 years & 2 & 3 & 49 & none & own & 1 & unskilled & 2 & no & no\\\\\n",
       "\t4 & < 0 DM & 42 & good & furniture/appliances & 7882 & < 100 DM & 4 - 7 years & 2 & 4 & 45 & none & other & 1 & skilled & 2 & no & no\\\\\n",
       "\t5 & < 0 DM & 24 & poor & car & 4870 & < 100 DM & 1 - 4 years & 3 & 4 & 53 & none & other & 2 & skilled & 2 & no & yes\\\\\n",
       "\t6 & unknown & 36 & good & education & 9055 & unknown & 1 - 4 years & 2 & 4 & 35 & none & other & 1 & unskilled & 2 & yes & no\\\\\n",
       "\\end{tabular}\n"
      ],
      "text/plain": [
       "  checking_balance months_loan_duration credit_history              purpose\n",
       "1           < 0 DM                    6       critical furniture/appliances\n",
       "2       1 - 200 DM                   48           good furniture/appliances\n",
       "3          unknown                   12       critical            education\n",
       "4           < 0 DM                   42           good furniture/appliances\n",
       "5           < 0 DM                   24           poor                  car\n",
       "6          unknown                   36           good            education\n",
       "  amount savings_balance employment_duration percent_of_income\n",
       "1   1169         unknown           > 7 years                 4\n",
       "2   5951        < 100 DM         1 - 4 years                 2\n",
       "3   2096        < 100 DM         4 - 7 years                 2\n",
       "4   7882        < 100 DM         4 - 7 years                 2\n",
       "5   4870        < 100 DM         1 - 4 years                 3\n",
       "6   9055         unknown         1 - 4 years                 2\n",
       "  years_at_residence age other_credit housing existing_loans_count       job\n",
       "1                  4  67         none     own                    2   skilled\n",
       "2                  2  22         none     own                    1   skilled\n",
       "3                  3  49         none     own                    1 unskilled\n",
       "4                  4  45         none   other                    1   skilled\n",
       "5                  4  53         none   other                    2   skilled\n",
       "6                  4  35         none   other                    1 unskilled\n",
       "  dependents phone default\n",
       "1          1   yes      no\n",
       "2          1    no     yes\n",
       "3          2    no      no\n",
       "4          2    no      no\n",
       "5          2    no     yes\n",
       "6          2   yes      no"
      ]
     },
     "execution_count": 129,
     "metadata": {},
     "output_type": "execute_result"
    }
   ],
   "source": [
    "#Encabezado del archivo (6 primeras filas)\n",
    "head(credit)"
   ]
  },
  {
   "cell_type": "markdown",
   "metadata": {},
   "source": [
    "## 5.2. Paso 2: Exploración y Preparación de datos"
   ]
  },
  {
   "cell_type": "code",
   "execution_count": 130,
   "metadata": {
    "collapsed": false
   },
   "outputs": [
    {
     "name": "stdout",
     "output_type": "stream",
     "text": [
      "'data.frame':\t1000 obs. of  17 variables:\n",
      " $ checking_balance    : Factor w/ 4 levels \"< 0 DM\",\"> 200 DM\",..: 1 3 4 1 1 4 4 3 4 3 ...\n",
      " $ months_loan_duration: int  6 48 12 42 24 36 24 36 12 30 ...\n",
      " $ credit_history      : Factor w/ 5 levels \"critical\",\"good\",..: 1 2 1 2 4 2 2 2 2 1 ...\n",
      " $ purpose             : Factor w/ 6 levels \"business\",\"car\",..: 5 5 4 5 2 4 5 2 5 2 ...\n",
      " $ amount              : int  1169 5951 2096 7882 4870 9055 2835 6948 3059 5234 ...\n",
      " $ savings_balance     : Factor w/ 5 levels \"< 100 DM\",\"> 1000 DM\",..: 5 1 1 1 1 5 4 1 2 1 ...\n",
      " $ employment_duration : Factor w/ 5 levels \"< 1 year\",\"> 7 years\",..: 2 3 4 4 3 3 2 3 4 5 ...\n",
      " $ percent_of_income   : int  4 2 2 2 3 2 3 2 2 4 ...\n",
      " $ years_at_residence  : int  4 2 3 4 4 4 4 2 4 2 ...\n",
      " $ age                 : int  67 22 49 45 53 35 53 35 61 28 ...\n",
      " $ other_credit        : Factor w/ 3 levels \"bank\",\"none\",..: 2 2 2 2 2 2 2 2 2 2 ...\n",
      " $ housing             : Factor w/ 3 levels \"other\",\"own\",..: 2 2 2 1 1 1 2 3 2 2 ...\n",
      " $ existing_loans_count: int  2 1 1 1 2 1 1 1 1 2 ...\n",
      " $ job                 : Factor w/ 4 levels \"management\",\"skilled\",..: 2 2 4 2 2 4 2 1 4 1 ...\n",
      " $ dependents          : int  1 1 2 2 2 2 1 1 1 1 ...\n",
      " $ phone               : Factor w/ 2 levels \"no\",\"yes\": 2 1 1 1 1 2 1 2 1 1 ...\n",
      " $ default             : Factor w/ 2 levels \"no\",\"yes\": 1 2 1 1 2 1 1 1 1 2 ...\n"
     ]
    }
   ],
   "source": [
    "#Características globales del archivo\n",
    "str(credit)"
   ]
  },
  {
   "cell_type": "code",
   "execution_count": 131,
   "metadata": {
    "collapsed": false
   },
   "outputs": [
    {
     "data": {
      "text/plain": [
       "\n",
       "    < 0 DM   > 200 DM 1 - 200 DM    unknown \n",
       "       274         63        269        394 "
      ]
     },
     "execution_count": 131,
     "metadata": {},
     "output_type": "execute_result"
    }
   ],
   "source": [
    "#Registros del atributo\"checking_balance\"\n",
    "#DM: Deutsche Marks (Marcos Alemanes)\n",
    "table(credit$checking_balance)"
   ]
  },
  {
   "cell_type": "code",
   "execution_count": 132,
   "metadata": {
    "collapsed": false
   },
   "outputs": [
    {
     "data": {
      "text/plain": [
       "\n",
       "     < 100 DM     > 1000 DM  100 - 500 DM 500 - 1000 DM       unknown \n",
       "          603            48           103            63           183 "
      ]
     },
     "execution_count": 132,
     "metadata": {},
     "output_type": "execute_result"
    }
   ],
   "source": [
    "#Registros del atributo \"saving_balance\"\n",
    "table(credit$savings_balance)"
   ]
  },
  {
   "cell_type": "code",
   "execution_count": 133,
   "metadata": {
    "collapsed": false
   },
   "outputs": [
    {
     "data": {
      "text/plain": [
       "   Min. 1st Qu.  Median    Mean 3rd Qu.    Max. \n",
       "    4.0    12.0    18.0    20.9    24.0    72.0 "
      ]
     },
     "execution_count": 133,
     "metadata": {},
     "output_type": "execute_result"
    }
   ],
   "source": [
    "#Caracterización estadística del atributo \"months_loan_duration\"\n",
    "summary(credit$months_loan_duration)"
   ]
  },
  {
   "cell_type": "code",
   "execution_count": 134,
   "metadata": {
    "collapsed": false
   },
   "outputs": [
    {
     "data": {
      "text/plain": [
       "   Min. 1st Qu.  Median    Mean 3rd Qu.    Max. \n",
       "    250    1366    2320    3271    3972   18420 "
      ]
     },
     "execution_count": 134,
     "metadata": {},
     "output_type": "execute_result"
    }
   ],
   "source": [
    "#Caracterización estadística del atributo \"amount\"\n",
    "summary(credit$amount)"
   ]
  },
  {
   "cell_type": "code",
   "execution_count": 135,
   "metadata": {
    "collapsed": false
   },
   "outputs": [
    {
     "data": {
      "text/plain": [
       "\n",
       " no yes \n",
       "700 300 "
      ]
     },
     "execution_count": 135,
     "metadata": {},
     "output_type": "execute_result"
    }
   ],
   "source": [
    "#Conteo del atributo \"default\"\n",
    "table(credit$default)"
   ]
  },
  {
   "cell_type": "code",
   "execution_count": 136,
   "metadata": {
    "collapsed": false
   },
   "outputs": [],
   "source": [
    "#Semilla para la generación de números pseudo-aleatorios\n",
    "set.seed(123)\n"
   ]
  },
  {
   "cell_type": "code",
   "execution_count": 137,
   "metadata": {
    "collapsed": true
   },
   "outputs": [],
   "source": [
    "#Muestra aleatoria\n",
    "train_sample <- sample(1000, 900)"
   ]
  },
  {
   "cell_type": "code",
   "execution_count": 138,
   "metadata": {
    "collapsed": false
   },
   "outputs": [
    {
     "name": "stdout",
     "output_type": "stream",
     "text": [
      " int [1:900] 288 788 409 881 937 46 525 887 548 453 ...\n"
     ]
    }
   ],
   "source": [
    "str(train_sample)"
   ]
  },
  {
   "cell_type": "code",
   "execution_count": 139,
   "metadata": {
    "collapsed": false
   },
   "outputs": [],
   "source": [
    "#Selección de datos de entrenamiento\n",
    "credit_train <- credit[train_sample, ]"
   ]
  },
  {
   "cell_type": "code",
   "execution_count": 140,
   "metadata": {
    "collapsed": false
   },
   "outputs": [
    {
     "name": "stdout",
     "output_type": "stream",
     "text": [
      "'data.frame':\t900 obs. of  17 variables:\n",
      " $ checking_balance    : Factor w/ 4 levels \"< 0 DM\",\"> 200 DM\",..: 3 4 4 4 2 4 3 3 4 4 ...\n",
      " $ months_loan_duration: int  48 48 24 24 9 11 18 24 24 12 ...\n",
      " $ credit_history      : Factor w/ 5 levels \"critical\",\"good\",..: 4 1 2 2 2 1 2 1 2 3 ...\n",
      " $ purpose             : Factor w/ 6 levels \"business\",\"car\",..: 3 2 5 2 5 2 5 1 5 5 ...\n",
      " $ amount              : int  7582 2751 3235 7814 745 1393 1113 2825 1552 2759 ...\n",
      " $ savings_balance     : Factor w/ 5 levels \"< 100 DM\",\"> 1000 DM\",..: 3 5 4 1 1 1 1 5 1 1 ...\n",
      " $ employment_duration : Factor w/ 5 levels \"< 1 year\",\"> 7 years\",..: 5 2 2 4 3 1 3 4 4 2 ...\n",
      " $ percent_of_income   : int  2 4 3 3 3 4 4 4 3 2 ...\n",
      " $ years_at_residence  : int  4 3 2 3 2 4 4 3 1 4 ...\n",
      " $ age                 : int  31 38 26 38 28 35 26 34 32 34 ...\n",
      " $ other_credit        : Factor w/ 3 levels \"bank\",\"none\",..: 2 2 2 2 2 2 2 2 1 2 ...\n",
      " $ housing             : Factor w/ 3 levels \"other\",\"own\",..: 1 2 2 2 2 2 2 2 2 2 ...\n",
      " $ existing_loans_count: int  1 2 1 1 1 2 1 2 1 2 ...\n",
      " $ job                 : Factor w/ 4 levels \"management\",\"skilled\",..: 1 2 1 1 4 1 4 2 2 2 ...\n",
      " $ dependents          : int  1 2 1 1 1 1 2 2 2 1 ...\n",
      " $ phone               : Factor w/ 2 levels \"no\",\"yes\": 2 2 2 2 1 1 1 2 1 1 ...\n",
      " $ default             : Factor w/ 2 levels \"no\",\"yes\": 1 1 1 1 2 1 1 1 1 1 ...\n"
     ]
    }
   ],
   "source": [
    "str(credit_train)"
   ]
  },
  {
   "cell_type": "code",
   "execution_count": 141,
   "metadata": {
    "collapsed": false
   },
   "outputs": [],
   "source": [
    "#Datos de prueba\n",
    "credit_test <- credit[-train_sample, ]"
   ]
  },
  {
   "cell_type": "markdown",
   "metadata": {},
   "source": [
    "## 5.3. Paso 3: Entrenamiento del modelo"
   ]
  },
  {
   "cell_type": "markdown",
   "metadata": {},
   "source": [
    "Nota: Para la instalación del paquete se emplea el comando install.packages(\"C50\")"
   ]
  },
  {
   "cell_type": "code",
   "execution_count": 142,
   "metadata": {
    "collapsed": false
   },
   "outputs": [],
   "source": [
    "#Acceso a la libreria:\n",
    "library(C50)"
   ]
  },
  {
   "cell_type": "code",
   "execution_count": 143,
   "metadata": {
    "collapsed": false
   },
   "outputs": [],
   "source": [
    "#Definición del modelo\n",
    "credit_model <- C5.0(credit_train[-17], credit_train$default)"
   ]
  },
  {
   "cell_type": "code",
   "execution_count": 144,
   "metadata": {
    "collapsed": false
   },
   "outputs": [
    {
     "data": {
      "text/plain": [
       "\n",
       "Call:\n",
       "C5.0.default(x = credit_train[-17], y = credit_train$default)\n",
       "\n",
       "Classification Tree\n",
       "Number of samples: 900 \n",
       "Number of predictors: 16 \n",
       "\n",
       "Tree size: 57 \n",
       "\n",
       "Non-standard options: attempt to group attributes\n"
      ]
     },
     "execution_count": 144,
     "metadata": {},
     "output_type": "execute_result"
    }
   ],
   "source": [
    "#Resultados\n",
    "credit_model\n"
   ]
  },
  {
   "cell_type": "code",
   "execution_count": 145,
   "metadata": {
    "collapsed": false
   },
   "outputs": [
    {
     "data": {
      "text/plain": [
       "\n",
       "Call:\n",
       "C5.0.default(x = credit_train[-17], y = credit_train$default)\n",
       "\n",
       "\n",
       "C5.0 [Release 2.07 GPL Edition]  \tFri May 20 03:39:40 2016\n",
       "-------------------------------\n",
       "\n",
       "Class specified by attribute `outcome'\n",
       "\n",
       "Read 900 cases (17 attributes) from undefined.data\n",
       "\n",
       "Decision tree:\n",
       "\n",
       "checking_balance in {> 200 DM,unknown}: no (412/50)\n",
       "checking_balance in {< 0 DM,1 - 200 DM}:\n",
       ":...credit_history in {perfect,very good}: yes (59/18)\n",
       "    credit_history in {critical,good,poor}:\n",
       "    :...months_loan_duration <= 22:\n",
       "        :...credit_history = critical: no (72/14)\n",
       "        :   credit_history = poor:\n",
       "        :   :...dependents > 1: no (5)\n",
       "        :   :   dependents <= 1:\n",
       "        :   :   :...years_at_residence <= 3: yes (4/1)\n",
       "        :   :       years_at_residence > 3: no (5/1)\n",
       "        :   credit_history = good:\n",
       "        :   :...savings_balance in {> 1000 DM,500 - 1000 DM}: no (15/1)\n",
       "        :       savings_balance = 100 - 500 DM:\n",
       "        :       :...other_credit = bank: yes (3)\n",
       "        :       :   other_credit in {none,store}: no (9/2)\n",
       "        :       savings_balance = unknown:\n",
       "        :       :...other_credit = bank: yes (1)\n",
       "        :       :   other_credit in {none,store}: no (21/8)\n",
       "        :       savings_balance = < 100 DM:\n",
       "        :       :...purpose in {business,car0,renovations}: no (8/2)\n",
       "        :           purpose = education:\n",
       "        :           :...checking_balance = < 0 DM: yes (4)\n",
       "        :           :   checking_balance = 1 - 200 DM: no (1)\n",
       "        :           purpose = car:\n",
       "        :           :...employment_duration = > 7 years: yes (5)\n",
       "        :           :   employment_duration = unemployed: no (4/1)\n",
       "        :           :   employment_duration = < 1 year:\n",
       "        :           :   :...years_at_residence <= 2: yes (5)\n",
       "        :           :   :   years_at_residence > 2: no (3/1)\n",
       "        :           :   employment_duration = 1 - 4 years:\n",
       "        :           :   :...years_at_residence <= 2: yes (2)\n",
       "        :           :   :   years_at_residence > 2: no (6/1)\n",
       "        :           :   employment_duration = 4 - 7 years:\n",
       "        :           :   :...amount <= 1680: yes (2)\n",
       "        :           :       amount > 1680: no (3)\n",
       "        :           purpose = furniture/appliances:\n",
       "        :           :...job in {management,unskilled}: no (23/3)\n",
       "        :               job = unemployed: yes (1)\n",
       "        :               job = skilled:\n",
       "        :               :...months_loan_duration > 13: [S1]\n",
       "        :                   months_loan_duration <= 13:\n",
       "        :                   :...housing in {other,own}: no (23/4)\n",
       "        :                       housing = rent:\n",
       "        :                       :...percent_of_income <= 3: yes (3)\n",
       "        :                           percent_of_income > 3: no (2)\n",
       "        months_loan_duration > 22:\n",
       "        :...savings_balance = > 1000 DM: no (2)\n",
       "            savings_balance = 500 - 1000 DM: yes (4/1)\n",
       "            savings_balance = 100 - 500 DM:\n",
       "            :...credit_history in {critical,poor}: no (14/3)\n",
       "            :   credit_history = good:\n",
       "            :   :...other_credit = bank: no (1)\n",
       "            :       other_credit in {none,store}: yes (12/2)\n",
       "            savings_balance = unknown:\n",
       "            :...checking_balance = 1 - 200 DM: no (17)\n",
       "            :   checking_balance = < 0 DM:\n",
       "            :   :...credit_history = critical: no (1)\n",
       "            :       credit_history in {good,poor}: yes (12/3)\n",
       "            savings_balance = < 100 DM:\n",
       "            :...months_loan_duration > 47: yes (21/2)\n",
       "                months_loan_duration <= 47:\n",
       "                :...housing = other:\n",
       "                    :...percent_of_income <= 2: no (6)\n",
       "                    :   percent_of_income > 2: yes (9/3)\n",
       "                    housing = rent:\n",
       "                    :...other_credit = bank: no (1)\n",
       "                    :   other_credit in {none,store}: yes (16/3)\n",
       "                    housing = own:\n",
       "                    :...employment_duration = > 7 years: no (13/4)\n",
       "                        employment_duration = 4 - 7 years:\n",
       "                        :...job in {management,skilled,\n",
       "                        :   :       unemployed}: yes (9/1)\n",
       "                        :   job = unskilled: no (1)\n",
       "                        employment_duration = unemployed:\n",
       "                        :...years_at_residence <= 2: yes (4)\n",
       "                        :   years_at_residence > 2: no (3)\n",
       "                        employment_duration = 1 - 4 years:\n",
       "                        :...purpose in {business,car0,education}: yes (7/1)\n",
       "                        :   purpose in {furniture/appliances,\n",
       "                        :   :           renovations}: no (7)\n",
       "                        :   purpose = car:\n",
       "                        :   :...years_at_residence <= 3: yes (3)\n",
       "                        :       years_at_residence > 3: no (3)\n",
       "                        employment_duration = < 1 year:\n",
       "                        :...years_at_residence > 3: yes (5)\n",
       "                            years_at_residence <= 3:\n",
       "                            :...other_credit = bank: no (0)\n",
       "                                other_credit = store: yes (1)\n",
       "                                other_credit = none:\n",
       "                                :...checking_balance = 1 - 200 DM: no (8/2)\n",
       "                                    checking_balance = < 0 DM:\n",
       "                                    :...job in {management,skilled,\n",
       "                                        :       unemployed}: yes (2)\n",
       "                                        job = unskilled: no (3/1)\n",
       "\n",
       "SubTree [S1]\n",
       "\n",
       "employment_duration in {< 1 year,4 - 7 years}: no (4)\n",
       "employment_duration in {> 7 years,1 - 4 years,unemployed}: yes (10)\n",
       "\n",
       "\n",
       "Evaluation on training data (900 cases):\n",
       "\n",
       "\t    Decision Tree   \n",
       "\t  ----------------  \n",
       "\t  Size      Errors  \n",
       "\n",
       "\t    56  133(14.8%)   <<\n",
       "\n",
       "\n",
       "\t   (a)   (b)    <-classified as\n",
       "\t  ----  ----\n",
       "\t   598    35    (a): class no\n",
       "\t    98   169    (b): class yes\n",
       "\n",
       "\n",
       "\tAttribute usage:\n",
       "\n",
       "\t100.00%\tchecking_balance\n",
       "\t 54.22%\tcredit_history\n",
       "\t 47.67%\tmonths_loan_duration\n",
       "\t 38.11%\tsavings_balance\n",
       "\t 14.33%\tpurpose\n",
       "\t 14.33%\thousing\n",
       "\t 12.56%\temployment_duration\n",
       "\t  9.00%\tjob\n",
       "\t  8.67%\tother_credit\n",
       "\t  6.33%\tyears_at_residence\n",
       "\t  2.22%\tpercent_of_income\n",
       "\t  1.56%\tdependents\n",
       "\t  0.56%\tamount\n",
       "\n",
       "\n",
       "Time: 0.0 secs\n"
      ]
     },
     "execution_count": 145,
     "metadata": {},
     "output_type": "execute_result"
    }
   ],
   "source": [
    "summary(credit_model)"
   ]
  },
  {
   "cell_type": "markdown",
   "metadata": {},
   "source": [
    "## 5.4. Paso 4: Evaluación del desempeño del modelo"
   ]
  },
  {
   "cell_type": "code",
   "execution_count": 146,
   "metadata": {
    "collapsed": false
   },
   "outputs": [],
   "source": [
    "#Ahora se corre sobre los datos de prueba\n",
    "credit_pred <- predict(credit_model, credit_test)"
   ]
  },
  {
   "cell_type": "code",
   "execution_count": 147,
   "metadata": {
    "collapsed": true
   },
   "outputs": [],
   "source": [
    "library(gmodels)"
   ]
  },
  {
   "cell_type": "code",
   "execution_count": 148,
   "metadata": {
    "collapsed": false
   },
   "outputs": [
    {
     "name": "stdout",
     "output_type": "stream",
     "text": [
      "\n",
      " \n",
      "   Cell Contents\n",
      "|-------------------------|\n",
      "|                       N |\n",
      "|         N / Table Total |\n",
      "|-------------------------|\n",
      "\n",
      " \n",
      "Total Observations in Table:  100 \n",
      "\n",
      " \n",
      "               | predicted default \n",
      "actual default |        no |       yes | Row Total | \n",
      "---------------|-----------|-----------|-----------|\n",
      "            no |        59 |         8 |        67 | \n",
      "               |     0.590 |     0.080 |           | \n",
      "---------------|-----------|-----------|-----------|\n",
      "           yes |        19 |        14 |        33 | \n",
      "               |     0.190 |     0.140 |           | \n",
      "---------------|-----------|-----------|-----------|\n",
      "  Column Total |        78 |        22 |       100 | \n",
      "---------------|-----------|-----------|-----------|\n",
      "\n",
      " \n"
     ]
    }
   ],
   "source": [
    "#Se genera una tabla donde se identifican los falsos positivos, falsos negativos, falsos falsos, etc.\n",
    "CrossTable(credit_test$default, credit_pred,\n",
    "prop.chisq = FALSE, prop.c = FALSE, prop.r = FALSE,\n",
    "dnn = c('actual default', 'predicted default'))"
   ]
  },
  {
   "cell_type": "markdown",
   "metadata": {},
   "source": [
    "## 5.5. Paso 5: Mejorar el desempeño del modelo "
   ]
  },
  {
   "cell_type": "markdown",
   "metadata": {},
   "source": [
    "### a. A partir de estimulación"
   ]
  },
  {
   "cell_type": "code",
   "execution_count": 149,
   "metadata": {
    "collapsed": false
   },
   "outputs": [],
   "source": [
    "# Definición de la estimulación (Boosting)\n",
    "credit_boost10 <- C5.0(credit_train[-17], credit_train$default,\n",
    "trials = 10)"
   ]
  },
  {
   "cell_type": "code",
   "execution_count": 150,
   "metadata": {
    "collapsed": false
   },
   "outputs": [
    {
     "data": {
      "text/plain": [
       "\n",
       "Call:\n",
       "C5.0.default(x = credit_train[-17], y = credit_train$default, trials = 10)\n",
       "\n",
       "Classification Tree\n",
       "Number of samples: 900 \n",
       "Number of predictors: 16 \n",
       "\n",
       "Number of boosting iterations: 10 \n",
       "Average tree size: 47.5 \n",
       "\n",
       "Non-standard options: attempt to group attributes\n"
      ]
     },
     "execution_count": 150,
     "metadata": {},
     "output_type": "execute_result"
    }
   ],
   "source": [
    "#Caracteristicas del arbol de clasificación con la estimulación\n",
    "credit_boost10"
   ]
  },
  {
   "cell_type": "code",
   "execution_count": 151,
   "metadata": {
    "collapsed": false
   },
   "outputs": [],
   "source": [
    "#Evaluación de los datos de prueba sobre el nuevo modelo\n",
    "credit_boost_pred10 <- predict(credit_boost10, credit_test)"
   ]
  },
  {
   "cell_type": "code",
   "execution_count": 152,
   "metadata": {
    "collapsed": false,
    "scrolled": false
   },
   "outputs": [
    {
     "name": "stdout",
     "output_type": "stream",
     "text": [
      "\n",
      " \n",
      "   Cell Contents\n",
      "|-------------------------|\n",
      "|                       N |\n",
      "|         N / Table Total |\n",
      "|-------------------------|\n",
      "\n",
      " \n",
      "Total Observations in Table:  100 \n",
      "\n",
      " \n",
      "               | predicted default \n",
      "actual default |        no |       yes | Row Total | \n",
      "---------------|-----------|-----------|-----------|\n",
      "            no |        62 |         5 |        67 | \n",
      "               |     0.620 |     0.050 |           | \n",
      "---------------|-----------|-----------|-----------|\n",
      "           yes |        13 |        20 |        33 | \n",
      "               |     0.130 |     0.200 |           | \n",
      "---------------|-----------|-----------|-----------|\n",
      "  Column Total |        75 |        25 |       100 | \n",
      "---------------|-----------|-----------|-----------|\n",
      "\n",
      " \n"
     ]
    }
   ],
   "source": [
    "#Resultados del arbol con la estimulación a partir de los falsos postivos y falsos negativos encontrados\n",
    "CrossTable(credit_test$default, credit_boost_pred10,\n",
    "prop.chisq = FALSE, prop.c = FALSE, prop.r = FALSE,\n",
    "dnn = c('actual default', 'predicted default'))"
   ]
  },
  {
   "cell_type": "markdown",
   "metadata": {
    "collapsed": true
   },
   "source": [
    "### b. A partir de penalización"
   ]
  },
  {
   "cell_type": "code",
   "execution_count": 153,
   "metadata": {
    "collapsed": false
   },
   "outputs": [],
   "source": [
    "# Se define la matriz de penalización a partir de lo que el analista considere más riesgoso (si FN o un FP)\n",
    "# Se definen las dimensiones de la matriz\n",
    "matrix_dimensions <- list(c(\"no\", \"yes\"), c(\"no\", \"yes\"))"
   ]
  },
  {
   "cell_type": "code",
   "execution_count": 154,
   "metadata": {
    "collapsed": true
   },
   "outputs": [],
   "source": [
    "# Se definen los nombres de las dimensiones\n",
    "names(matrix_dimensions) <- c(\"predicted\", \"actual\")"
   ]
  },
  {
   "cell_type": "code",
   "execution_count": 155,
   "metadata": {
    "collapsed": false
   },
   "outputs": [
    {
     "data": {
      "text/html": [
       "<dl>\n",
       "\t<dt>$predicted</dt>\n",
       "\t\t<dd><ol class=list-inline>\n",
       "\t<li>'no'</li>\n",
       "\t<li>'yes'</li>\n",
       "</ol>\n",
       "</dd>\n",
       "\t<dt>$actual</dt>\n",
       "\t\t<dd><ol class=list-inline>\n",
       "\t<li>'no'</li>\n",
       "\t<li>'yes'</li>\n",
       "</ol>\n",
       "</dd>\n",
       "</dl>\n"
      ],
      "text/latex": [
       "\\begin{description}\n",
       "\\item[\\$predicted] \\begin{enumerate*}\n",
       "\\item 'no'\n",
       "\\item 'yes'\n",
       "\\end{enumerate*}\n",
       "\n",
       "\\item[\\$actual] \\begin{enumerate*}\n",
       "\\item 'no'\n",
       "\\item 'yes'\n",
       "\\end{enumerate*}\n",
       "\n",
       "\\end{description}\n"
      ],
      "text/markdown": [
       "$predicted\n",
       ":   1. 'no'\n",
       "2. 'yes'\n",
       "\n",
       "\n",
       "\n",
       "$actual\n",
       ":   1. 'no'\n",
       "2. 'yes'\n",
       "\n",
       "\n",
       "\n",
       "\n",
       "\n"
      ],
      "text/plain": [
       "$predicted\n",
       "[1] \"no\"  \"yes\"\n",
       "\n",
       "$actual\n",
       "[1] \"no\"  \"yes\"\n"
      ]
     },
     "execution_count": 155,
     "metadata": {},
     "output_type": "execute_result"
    }
   ],
   "source": [
    "matrix_dimensions"
   ]
  },
  {
   "cell_type": "code",
   "execution_count": 156,
   "metadata": {
    "collapsed": true
   },
   "outputs": [],
   "source": [
    "# Se le asigna la penalización a la matriz\n",
    "error_cost <- matrix(c(0, 1, 4, 0), nrow = 2,\n",
    "dimnames = matrix_dimensions)"
   ]
  },
  {
   "cell_type": "code",
   "execution_count": 157,
   "metadata": {
    "collapsed": false
   },
   "outputs": [
    {
     "data": {
      "text/html": [
       "<table>\n",
       "<thead><tr><th></th><th scope=col>no</th><th scope=col>yes</th></tr></thead>\n",
       "<tbody>\n",
       "\t<tr><th scope=row>no</th><td>0</td><td>4</td></tr>\n",
       "\t<tr><th scope=row>yes</th><td>1</td><td>0</td></tr>\n",
       "</tbody>\n",
       "</table>\n"
      ],
      "text/latex": [
       "\\begin{tabular}{r|ll}\n",
       "  & no & yes\\\\\n",
       "\\hline\n",
       "\tno & 0 & 4\\\\\n",
       "\tyes & 1 & 0\\\\\n",
       "\\end{tabular}\n"
      ],
      "text/markdown": [
       "1. 0\n",
       "2. 1\n",
       "3. 4\n",
       "4. 0\n",
       "\n",
       "\n"
      ],
      "text/plain": [
       "         actual\n",
       "predicted no yes\n",
       "      no   0   4\n",
       "      yes  1   0"
      ]
     },
     "execution_count": 157,
     "metadata": {},
     "output_type": "execute_result"
    }
   ],
   "source": [
    "# Matriz de penalización\n",
    "# Como se puede ver en el ejemplo la penalización es mayor para un falso positivo que para un falso negativo\n",
    "error_cost"
   ]
  },
  {
   "cell_type": "code",
   "execution_count": 158,
   "metadata": {
    "collapsed": false
   },
   "outputs": [],
   "source": [
    "# Se entrena el algoritno con las restricciones de la matriz de penalizaión\n",
    "credit_cost <- C5.0(credit_train[-17], credit_train$default,\n",
    "costs = error_cost)"
   ]
  },
  {
   "cell_type": "code",
   "execution_count": 159,
   "metadata": {
    "collapsed": false
   },
   "outputs": [],
   "source": [
    "# Se realiza una predicción del nuevo arbol con los datos de prueba\n",
    "credit_cost_pred <- predict(credit_cost, credit_test)"
   ]
  },
  {
   "cell_type": "code",
   "execution_count": 160,
   "metadata": {
    "collapsed": false
   },
   "outputs": [
    {
     "name": "stdout",
     "output_type": "stream",
     "text": [
      "\n",
      " \n",
      "   Cell Contents\n",
      "|-------------------------|\n",
      "|                       N |\n",
      "|         N / Table Total |\n",
      "|-------------------------|\n",
      "\n",
      " \n",
      "Total Observations in Table:  100 \n",
      "\n",
      " \n",
      "               | predicted default \n",
      "actual default |        no |       yes | Row Total | \n",
      "---------------|-----------|-----------|-----------|\n",
      "            no |        37 |        30 |        67 | \n",
      "               |     0.370 |     0.300 |           | \n",
      "---------------|-----------|-----------|-----------|\n",
      "           yes |         7 |        26 |        33 | \n",
      "               |     0.070 |     0.260 |           | \n",
      "---------------|-----------|-----------|-----------|\n",
      "  Column Total |        44 |        56 |       100 | \n",
      "---------------|-----------|-----------|-----------|\n",
      "\n",
      " \n"
     ]
    }
   ],
   "source": [
    "# Resultados del nuevo arbol condicionado a la penalización\n",
    "CrossTable(credit_test$default, credit_cost_pred,\n",
    "prop.chisq = FALSE, prop.c = FALSE, prop.r = FALSE,\n",
    "dnn = c('actual default', 'predicted default'))"
   ]
  },
  {
   "cell_type": "markdown",
   "metadata": {},
   "source": [
    "## 6. Desarrollo empleando Python"
   ]
  },
  {
   "cell_type": "markdown",
   "metadata": {},
   "source": [
    "Consultar el Notebook [ADM_Arboles de Decisión - Python - [2 de 2]](ADM_Arboles de Decisión - Python - [2 de 2].ipynb)"
   ]
  },
  {
   "cell_type": "markdown",
   "metadata": {},
   "source": [
    "## 7. Conclusiones\n",
    "\n",
    "* *Los arboles de decisión son una herramienta fácil de implementar y analizar.*\n",
    "* *El análisis de un arbol es muy intuitivo si se cuenta con un esquema visual.*\n",
    "* *Los arboles permiten determinar cuáles de los atributos de un problema son los que efectivamente influyen en un problema de clasificación.*\n",
    "* *Además de predecir, los arboles brindan información adicional sobre las relaciones internas de los atributos.*\n",
    "* *La presición del árbol está afectada por el algoritmo que se emplee (ID3, C4.5, C5.0, CRANT, etc.)*\n",
    "* *Tanto R como Python permiten la construcción de un árbol de decisión, sin embargo con Python el manejo de variables categóricas requiere preparación adicional de los datos.*\n"
   ]
  },
  {
   "cell_type": "markdown",
   "metadata": {},
   "source": [
    "## 8. Bibliografía"
   ]
  },
  {
   "cell_type": "markdown",
   "metadata": {
    "collapsed": true
   },
   "source": [
    "Lantz, B. (2015). Divide and Conquer – Classification Using Decision Trees and Rules. En *Machine Learning With R* (Segunda Ediciónn, p. 125). Packt Publishing Ltd.\n",
    "\n",
    "Raschka, S. (2015). Decision tree learning. En Python Machine Learning (Segunda Edición, p. 80). Packt Publishing Ltd.\n",
    "\n",
    "Pandas. (2016). pandas: powerful Python data analysis toolkit. Retrieved May 16, 2016, from http://pandas.pydata.org/pandas-docs/stable/\n",
    "\n",
    "Scikit-Learn. (2016). Scikit-Learn Documentation. Recuperado Mayo 16, 2016, de http://scikit-learn.org/stable/modules/tree.html\n",
    "\n"
   ]
  },
  {
   "cell_type": "markdown",
   "metadata": {
    "collapsed": true
   },
   "source": [
    "___"
   ]
  }
 ],
 "metadata": {
  "kernelspec": {
   "display_name": "R",
   "language": "R",
   "name": "ir"
  },
  "language_info": {
   "codemirror_mode": "r",
   "file_extension": ".r",
   "mimetype": "text/x-r-source",
   "name": "R",
   "pygments_lexer": "r",
   "version": "3.2.2"
  }
 },
 "nbformat": 4,
 "nbformat_minor": 0
}
